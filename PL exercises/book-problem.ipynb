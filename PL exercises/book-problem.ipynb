{
 "cells": [
  {
   "attachments": {},
   "cell_type": "markdown",
   "metadata": {},
   "source": [
    "# Book Problem\n"
   ]
  },
  {
   "attachments": {},
   "cell_type": "markdown",
   "metadata": {},
   "source": [
    "Cierta compañía editorial produce libros y revistas especializados, los cuales vende a $30000 y $25000 por unidad, respectivamente. Se ha estimado que hay una disponibilidad de 300 horas en revisión técnica, 350 horas en impresión y 400 horas en empaste mensuales. Establezca la cantidad de libros y revistas que se deben producir por mes si se sabe que para producir un libro se requieren 6h de revisión técnica, 5h en impresión y 10h en empaste, mientras que para producir una revista se requieren 5h en revisión técnica, 7h en impresión y 4h en empaste\n",
    "\n"
   ]
  },
  {
   "attachments": {},
   "cell_type": "markdown",
   "metadata": {},
   "source": [
    "| Product | Technical review | Printing | Binding | Price |\n",
    "| ------- | ---------------- | -------- | ------- | ----- |\n",
    "| Book   | 6 hours  | 5 hours | 10 hours | $30000 |\n",
    "| Magazine | 5 hours | 7 hours | 4 hours | $25000 | \n",
    "| Total maximum | 300 hours | 350 hours | 400 hours| "
   ]
  },
  {
   "attachments": {},
   "cell_type": "markdown",
   "metadata": {},
   "source": [
    "# Problem statement"
   ]
  },
  {
   "attachments": {},
   "cell_type": "markdown",
   "metadata": {},
   "source": [
    "## Sets\n",
    " \n",
    "$P$ = Set of Products\n",
    "\n",
    "$O$ = Set of Product Operations"
   ]
  },
  {
   "attachments": {},
   "cell_type": "markdown",
   "metadata": {},
   "source": [
    "## Decision Variables\n",
    "\n",
    "$x_{p}$   -> Number of products $p$ produced "
   ]
  },
  {
   "attachments": {},
   "cell_type": "markdown",
   "metadata": {},
   "source": [
    "## Parameters\n",
    "\n",
    "$V_{p}$ -> price of products, $\\forall p \\in P$\n",
    "\n",
    "$T_{p,o}$ -> Time required to complete an operation $o$ per product $p$, $\\forall o \\in O$, $\\forall p \\in P$\n",
    "\n",
    "$Timax_{o}$ -> Maximun time spent monthtly in operation $o$, $\\forall o \\in O$"
   ]
  },
  {
   "attachments": {},
   "cell_type": "markdown",
   "metadata": {},
   "source": [
    "## Constricts\n",
    "\n",
    "1. Maximun time spent:\n",
    "\n",
    "$$\\sum_{\\forall p \\in P} T_{p,o} x_{p} \\leq Timax_{o}, \\forall o \\in O$$\n",
    "\n",
    "2. Basic constrain:\n",
    "\n",
    "$$x_{p} \\geq 0$$\n",
    "\n",
    "$$x_{p} \\in Z$$\n"
   ]
  },
  {
   "attachments": {},
   "cell_type": "markdown",
   "metadata": {},
   "source": [
    "## Objective\n",
    "\n",
    "$$\\text{max} \\sum_{\\forall p \\in P} V_{p} x_{p}$$"
   ]
  },
  {
   "attachments": {},
   "cell_type": "markdown",
   "metadata": {},
   "source": [
    "# Model"
   ]
  },
  {
   "cell_type": "code",
   "execution_count": 28,
   "metadata": {},
   "outputs": [],
   "source": [
    "import pyomo.environ as pyo"
   ]
  },
  {
   "cell_type": "code",
   "execution_count": 29,
   "metadata": {},
   "outputs": [],
   "source": [
    "model = pyo.ConcreteModel(name=\"Book Problem\", doc=\"Book Problem\")"
   ]
  },
  {
   "cell_type": "code",
   "execution_count": 30,
   "metadata": {},
   "outputs": [],
   "source": [
    "# Define sets\n",
    "PRODUCTS = [\"Book\", \"Magazine\"]\n",
    "OPERATIONS = [\"Technical Review\", \"Printing\", \"Binding\"]\n",
    "\n",
    "model.P =pyo.Set(initialize=PRODUCTS, doc=\"Product Set\")\n",
    "model.O = pyo.Set(initialize=OPERATIONS, doc=\"Operations Set\")"
   ]
  },
  {
   "cell_type": "code",
   "execution_count": 31,
   "metadata": {},
   "outputs": [],
   "source": [
    "#Define Parameters\n",
    "vp = {\"Book\": 30000, \n",
    "    \"Magazine\": 25000}\n",
    "\n",
    "tpo = {\n",
    "    (\"Book\", \"Technical Review\"): 6,\n",
    "    (\"Book\", \"Printing\"): 5,\n",
    "    (\"Book\", \"Binding\"): 10,\n",
    "    (\"Magazine\", \"Technical Review\"): 5,\n",
    "    (\"Magazine\", \"Printing\"): 7,\n",
    "    (\"Magazine\", \"Binding\"): 4\n",
    "}\n",
    "\n",
    "timaxo = {\n",
    "    \"Technical Review\": 300,\n",
    "    \"Printing\": 350,\n",
    "    \"Binding\": 400\n",
    "}\n",
    "\n",
    "model.vp = pyo.Param(model.P, initialize=vp, doc=\"Price per Product\")\n",
    "model.tpo = pyo.Param(model.P, model.O, initialize=tpo, doc=\"Time of Operation per Product\")\n",
    "model.timaxo = pyo.Param(model.O, initialize=timaxo, doc=\"Maximum Time per Operation\")"
   ]
  },
  {
   "cell_type": "code",
   "execution_count": 32,
   "metadata": {},
   "outputs": [],
   "source": [
    "# Define Variables\n",
    "model.xp = pyo.Var(model.P, domain=pyo.NonNegativeIntegers, doc=\"Amount of products to produce\")"
   ]
  },
  {
   "cell_type": "code",
   "execution_count": 33,
   "metadata": {},
   "outputs": [],
   "source": [
    "# Define Constraints\n",
    "#1. Maximum time constraint:\n",
    "def time_limit_max(model, o):\n",
    "    return sum(model.tpo[p,o] * model.xp[p] for p in model.P) <= model.timaxo[o]\n",
    "\n",
    "model.time_limit_max = pyo.Constraint(model.O, rule=time_limit_max, doc=\"Maximum Time per Operation\")\n"
   ]
  },
  {
   "cell_type": "code",
   "execution_count": 34,
   "metadata": {},
   "outputs": [],
   "source": [
    "# Define Objective\n",
    "def cost_function(model):\n",
    "    return sum(model.vp[p] * model.xp[p] for p in model.P)\n",
    "\n",
    "model.objective = pyo.Objective(rule=cost_function, sense=pyo.maximize, doc=\"Total Profit of the products produced\")"
   ]
  },
  {
   "cell_type": "code",
   "execution_count": 35,
   "metadata": {},
   "outputs": [
    {
     "name": "stdout",
     "output_type": "stream",
     "text": [
      "Book Problem\n",
      "\n",
      "    3 Set Declarations\n",
      "        O : Operations Set\n",
      "            Size=1, Index=None, Ordered=Insertion\n",
      "            Key  : Dimen : Domain : Size : Members\n",
      "            None :     1 :    Any :    3 : {'Technical Review', 'Printing', 'Binding'}\n",
      "        P : Product Set\n",
      "            Size=1, Index=None, Ordered=Insertion\n",
      "            Key  : Dimen : Domain : Size : Members\n",
      "            None :     1 :    Any :    2 : {'Book', 'Magazine'}\n",
      "        tpo_index : Size=1, Index=None, Ordered=True\n",
      "            Key  : Dimen : Domain : Size : Members\n",
      "            None :     2 :    P*O :    6 : {('Book', 'Technical Review'), ('Book', 'Printing'), ('Book', 'Binding'), ('Magazine', 'Technical Review'), ('Magazine', 'Printing'), ('Magazine', 'Binding')}\n",
      "\n",
      "    3 Param Declarations\n",
      "        timaxo : Maximum Time per Operation\n",
      "            Size=3, Index=O, Domain=Any, Default=None, Mutable=False\n",
      "            Key              : Value\n",
      "                     Binding :   400\n",
      "                    Printing :   350\n",
      "            Technical Review :   300\n",
      "        tpo : Time of Operation per Product\n",
      "            Size=6, Index=tpo_index, Domain=Any, Default=None, Mutable=False\n",
      "            Key                              : Value\n",
      "                         ('Book', 'Binding') :    10\n",
      "                        ('Book', 'Printing') :     5\n",
      "                ('Book', 'Technical Review') :     6\n",
      "                     ('Magazine', 'Binding') :     4\n",
      "                    ('Magazine', 'Printing') :     7\n",
      "            ('Magazine', 'Technical Review') :     5\n",
      "        vp : Price per Product\n",
      "            Size=2, Index=P, Domain=Any, Default=None, Mutable=False\n",
      "            Key      : Value\n",
      "                Book : 30000\n",
      "            Magazine : 25000\n",
      "\n",
      "    1 Var Declarations\n",
      "        xp : Amount of products to produce\n",
      "            Size=2, Index=P\n",
      "            Key      : Lower : Value : Upper : Fixed : Stale : Domain\n",
      "                Book :     0 :  None :  None : False :  True : NonNegativeIntegers\n",
      "            Magazine :     0 :  None :  None : False :  True : NonNegativeIntegers\n",
      "\n",
      "    1 Objective Declarations\n",
      "        objective : Total Profit of the products produced\n",
      "            Size=1, Index=None, Active=True\n",
      "            Key  : Active : Sense    : Expression\n",
      "            None :   True : maximize : 30000*xp[Book] + 25000*xp[Magazine]\n",
      "\n",
      "    1 Constraint Declarations\n",
      "        time_limit_max : Maximum Time per Operation\n",
      "            Size=3, Index=O, Active=True\n",
      "            Key              : Lower : Body                         : Upper : Active\n",
      "                     Binding :  -Inf : 10*xp[Book] + 4*xp[Magazine] : 400.0 :   True\n",
      "                    Printing :  -Inf :  5*xp[Book] + 7*xp[Magazine] : 350.0 :   True\n",
      "            Technical Review :  -Inf :  6*xp[Book] + 5*xp[Magazine] : 300.0 :   True\n",
      "\n",
      "    9 Declarations: P O vp tpo_index tpo timaxo xp time_limit_max objective\n"
     ]
    }
   ],
   "source": [
    "model.pprint()"
   ]
  },
  {
   "attachments": {},
   "cell_type": "markdown",
   "metadata": {},
   "source": [
    "## Solve the model"
   ]
  },
  {
   "cell_type": "code",
   "execution_count": 36,
   "metadata": {},
   "outputs": [],
   "source": [
    "solver = pyo.SolverFactory('appsi_highs')"
   ]
  },
  {
   "cell_type": "code",
   "execution_count": 37,
   "metadata": {},
   "outputs": [
    {
     "name": "stdout",
     "output_type": "stream",
     "text": [
      "Presolving model\n",
      "3 rows, 2 cols, 6 nonzeros\n",
      "3 rows, 2 cols, 6 nonzeros\n",
      "Objective function is integral with scale 0.0002\n",
      "\n",
      "Solving MIP model with:\n",
      "   3 rows\n",
      "   2 cols (0 binary, 2 integer, 0 implied int., 0 continuous)\n",
      "   6 nonzeros\n",
      "\n",
      "        Nodes      |    B&B Tree     |            Objective Bounds              |  Dynamic Constraints |       Work      \n",
      "     Proc. InQueue |  Leaves   Expl. | BestBound       BestSol              Gap |   Cuts   InLp Confl. | LpIters     Time\n",
      "\n",
      "         0       0         0   0.00%   2450000         -inf                 inf        0      0      0         0     0.0s\n",
      " S       0       0         0   0.00%   2450000         1475000           66.10%        0      0      0         0     0.0s\n",
      "         0       0         0   0.00%   1500000         1475000            1.69%        0      0      1         3     0.0s\n",
      " H       0       0         0   0.00%   1500000         1500000            0.00%        3      1      2         4     0.0s\n",
      "\n",
      "Solving report\n",
      "  Status            Optimal\n",
      "  Primal bound      1500000\n",
      "  Dual bound        1500000\n",
      "  Gap               0% (tolerance: 0.01%)\n",
      "  Solution status   feasible\n",
      "                    1500000 (objective)\n",
      "                    0 (bound viol.)\n",
      "                    1.06581410364e-14 (int. viol.)\n",
      "                    0 (row viol.)\n",
      "  Timing            0.00 (total)\n",
      "                    0.00 (presolve)\n",
      "                    0.00 (postsolve)\n",
      "  Nodes             1\n",
      "  LP iterations     4 (total)\n",
      "                    0 (strong br.)\n",
      "                    1 (separation)\n",
      "                    0 (heuristics)\n"
     ]
    },
    {
     "data": {
      "text/plain": [
       "{'Problem': [{'Lower bound': 1500000.0, 'Upper bound': 1500000.0, 'Number of objectives': 1, 'Number of constraints': 0, 'Number of variables': 0, 'Sense': -1}], 'Solver': [{'Status': 'ok', 'Termination condition': 'optimal', 'Termination message': 'TerminationCondition.optimal'}], 'Solution': [OrderedDict([('number of solutions', 0), ('number of solutions displayed', 0)])]}"
      ]
     },
     "execution_count": 37,
     "metadata": {},
     "output_type": "execute_result"
    }
   ],
   "source": [
    "solver.solve(model, tee=True)"
   ]
  },
  {
   "cell_type": "code",
   "execution_count": 38,
   "metadata": {},
   "outputs": [
    {
     "name": "stdout",
     "output_type": "stream",
     "text": [
      "xp : Amount of products to produce\n",
      "    Size=2, Index=P\n",
      "    Key      : Lower : Value              : Upper : Fixed : Stale : Domain\n",
      "        Book :     0 : 30.000000000000007 :  None : False : False : NonNegativeIntegers\n",
      "    Magazine :     0 :  23.99999999999999 :  None : False : False : NonNegativeIntegers\n"
     ]
    }
   ],
   "source": [
    "model.xp.display()"
   ]
  },
  {
   "cell_type": "code",
   "execution_count": 39,
   "metadata": {},
   "outputs": [
    {
     "data": {
      "text/plain": [
       "1500000.0"
      ]
     },
     "execution_count": 39,
     "metadata": {},
     "output_type": "execute_result"
    }
   ],
   "source": [
    "model.objective.expr()"
   ]
  }
 ],
 "metadata": {
  "kernelspec": {
   "display_name": "Math-Optimization-oT6u-VEw",
   "language": "python",
   "name": "python3"
  },
  "language_info": {
   "codemirror_mode": {
    "name": "ipython",
    "version": 3
   },
   "file_extension": ".py",
   "mimetype": "text/x-python",
   "name": "python",
   "nbconvert_exporter": "python",
   "pygments_lexer": "ipython3",
   "version": "3.10.11"
  },
  "orig_nbformat": 4
 },
 "nbformat": 4,
 "nbformat_minor": 2
}
