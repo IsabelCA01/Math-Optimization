{
 "cells": [
  {
   "attachments": {},
   "cell_type": "markdown",
   "metadata": {},
   "source": [
    "# Nutrition Problem"
   ]
  },
  {
   "attachments": {},
   "cell_type": "markdown",
   "metadata": {},
   "source": [
    "**Español**\n",
    "\n",
    "Una nutricionista se encuentra en el proceso de decisión para establecer que cantidad de dos tipos de alimento (A y B) debe incorporar en una dieta sabiendo que el costo por libra de cada uno de ellos es $400 y $300, respectivamente.  Además, se ha establecido que una libra de alimento tipo A contiene 3 miligramos de vitaminas, 6 miligramos de minerales y 4 miligramos de proteínas;  mientras que una libra de alimento tipo B contiene 8 miligramos de vitaminas, 3 miligramos de minerales y 5 miligramos de proteínas. También se debe garantizar consumir como mínimo 240 mg de vitaminas, 120 mg de minerales y 200 mg de proteínas. \n",
    "\n",
    "**English**\n",
    "\n",
    "A nutritionist is in the process of deciding how much of two types of food (A and B) to incorporate into a diet knowing that the cost per pound of each is $400 and $300, respectively.  In addition, it has been established that one pound of type A food contains 3 milligrams of vitamins, 6 milligrams of minerals and 4 milligrams of protein; while one pound of type B food contains 8 milligrams of vitamins, 3 milligrams of minerals and 5 milligrams of protein. It should also be guaranteed to consume at least 240 mg of vitamins, 120 mg of minerals and 200 mg of proteins."
   ]
  },
  {
   "attachments": {},
   "cell_type": "markdown",
   "metadata": {},
   "source": [
    "| Foods | Price | Vitamins | Minerals | Protein | \n",
    "| ----- | ----- | -------- | -------- | ------- | \n",
    "| A | $400 | 3 mg | 6 mg | 4 mg | \n",
    "| B | $300 | 8 mg | 3 mg | 5 mg | \n",
    "| Minimum amount of nutrients| | 240 mg | 120 mg | 200 mg |"
   ]
  },
  {
   "attachments": {},
   "cell_type": "markdown",
   "metadata": {},
   "source": [
    "# Problem Statement"
   ]
  },
  {
   "attachments": {},
   "cell_type": "markdown",
   "metadata": {},
   "source": [
    "## Sets\n",
    "\n",
    "$F$ = Set of foods\n",
    "\n",
    "$N$ = Set of Nutrients"
   ]
  },
  {
   "attachments": {},
   "cell_type": "markdown",
   "metadata": {},
   "source": [
    "## Decision Variables\n",
    "\n",
    "$x_{f}$ = Number of servings of food $f$"
   ]
  },
  {
   "attachments": {},
   "cell_type": "markdown",
   "metadata": {},
   "source": [
    "## Parameters\n",
    "\n",
    "$c_{f}$ = Cost per serving of food $f$,  $\\forall f \\in F$\n",
    "\n",
    "$a_{f,n}$ = Amount of nutrients $n$ in food $f$, $\\forall f \\in F, \\forall n \\in N$\n",
    "\n",
    "$Nmin_{n}$ = Minimum amount of nutrients $n$, $\\forall n \\in N$\n"
   ]
  },
  {
   "attachments": {},
   "cell_type": "markdown",
   "metadata": {},
   "source": [
    "## Constraints\n",
    "\n",
    "1. Limit nutrient consumption \n",
    "\n",
    "$$\\sum a_{f,n} \\cdot x_{f} \\geq Nmin_{n}, \\forall n \\in N$$\n",
    "\n",
    "2. Consumption lower bound\n",
    "\n",
    "$$x_{f} \\geq 0$$"
   ]
  },
  {
   "attachments": {},
   "cell_type": "markdown",
   "metadata": {},
   "source": [
    "## Objective"
   ]
  },
  {
   "attachments": {},
   "cell_type": "markdown",
   "metadata": {},
   "source": [
    "Minimize the total cost of the food\n",
    "\n",
    "$$\\text{min} \\sum c_f x_f$$"
   ]
  },
  {
   "attachments": {},
   "cell_type": "markdown",
   "metadata": {},
   "source": [
    "# Model"
   ]
  },
  {
   "cell_type": "code",
   "execution_count": 1,
   "metadata": {},
   "outputs": [],
   "source": [
    "import pyomo.environ as pyo"
   ]
  },
  {
   "cell_type": "code",
   "execution_count": 2,
   "metadata": {},
   "outputs": [],
   "source": [
    "model = pyo.ConcreteModel(name=\"Nutrition Problem\", doc=\"Nutrition Problem\")"
   ]
  },
  {
   "cell_type": "code",
   "execution_count": 3,
   "metadata": {},
   "outputs": [],
   "source": [
    "# Define sets\n",
    "\n",
    "FOODS = [\"A\", \"B\"]\n",
    "NUTRIENTS = [\"Vitamins\", \"Minerals\", \"Protein\"]\n",
    "\n",
    "model.F =pyo.Set(initialize=FOODS, doc=\"Food Set\")\n",
    "model.N = pyo.Set(initialize=NUTRIENTS, doc=\"Nutrient Set\")"
   ]
  },
  {
   "cell_type": "code",
   "execution_count": 4,
   "metadata": {},
   "outputs": [],
   "source": [
    "#Define Parameters\n",
    "\n",
    "cf = {\"A\": 400, \n",
    "    \"B\": 300}\n",
    "\n",
    "afn = {\n",
    "    (\"A\", \"Vitamins\"): 3,\n",
    "    (\"A\", \"Minerals\"): 6,\n",
    "    (\"A\", \"Protein\"): 4,\n",
    "    (\"B\", \"Vitamins\"): 8,\n",
    "    (\"B\", \"Minerals\"): 3,\n",
    "    (\"B\", \"Protein\"): 5\n",
    "}\n",
    "\n",
    "Nminn = {\n",
    "    \"Vitamins\": 240,\n",
    "    \"Minerals\": 120,\n",
    "    \"Protein\": 200\n",
    "}\n",
    "\n",
    "model.cf = pyo.Param(model.F, initialize=cf, doc=\"Cost of Food\")\n",
    "model.afn = pyo.Param(model.F, model.N , initialize=afn, doc=\"Amount of Nutrients per Food\")\n",
    "model.Nminn = pyo.Param(model.N, initialize=Nminn, doc=\"Minimum Amount of Nutrients\")"
   ]
  },
  {
   "cell_type": "code",
   "execution_count": 5,
   "metadata": {},
   "outputs": [],
   "source": [
    "# Define Variables\n",
    "\n",
    "model.xf = pyo.Var(model.F, domain=pyo.NonNegativeReals, doc=\"Amount of serving food f\")"
   ]
  },
  {
   "cell_type": "code",
   "execution_count": 6,
   "metadata": {},
   "outputs": [],
   "source": [
    "#Define Constraints\n",
    "\n",
    "#1. Nutrient constraints\n",
    "\n",
    "def nutrient_limit_min(model, n):\n",
    "    return model.Nminn[n] <= sum(model.afn[f,n] * model.xf[f] for f in model.F)\n",
    "\n",
    "model.nutrient_limit_min = pyo.Constraint(model.N, rule=nutrient_limit_min, doc=\"Minimum Amount of Nutrients\")"
   ]
  },
  {
   "cell_type": "code",
   "execution_count": 7,
   "metadata": {},
   "outputs": [],
   "source": [
    "#Define Objective\n",
    "\n",
    "def cost_function(model):\n",
    "    return sum(model.cf[f] * model.xf[f] for f in model.F)\n",
    "\n",
    "model.objective = pyo.Objective(rule=cost_function, sense=pyo.minimize, doc=\"Total Cost of Food per serving\")"
   ]
  },
  {
   "cell_type": "code",
   "execution_count": 8,
   "metadata": {},
   "outputs": [
    {
     "name": "stdout",
     "output_type": "stream",
     "text": [
      "Nutrition Problem\n",
      "\n",
      "    3 Set Declarations\n",
      "        F : Food Set\n",
      "            Size=1, Index=None, Ordered=Insertion\n",
      "            Key  : Dimen : Domain : Size : Members\n",
      "            None :     1 :    Any :    2 : {'A', 'B'}\n",
      "        N : Nutrient Set\n",
      "            Size=1, Index=None, Ordered=Insertion\n",
      "            Key  : Dimen : Domain : Size : Members\n",
      "            None :     1 :    Any :    3 : {'Vitamins', 'Minerals', 'Protein'}\n",
      "        afn_index : Size=1, Index=None, Ordered=True\n",
      "            Key  : Dimen : Domain : Size : Members\n",
      "            None :     2 :    F*N :    6 : {('A', 'Vitamins'), ('A', 'Minerals'), ('A', 'Protein'), ('B', 'Vitamins'), ('B', 'Minerals'), ('B', 'Protein')}\n",
      "\n",
      "    3 Param Declarations\n",
      "        Nminn : Minimum Amount of Nutrients\n",
      "            Size=3, Index=N, Domain=Any, Default=None, Mutable=False\n",
      "            Key      : Value\n",
      "            Minerals :   120\n",
      "             Protein :   200\n",
      "            Vitamins :   240\n",
      "        afn : Amount of Nutrients per Food\n",
      "            Size=6, Index=afn_index, Domain=Any, Default=None, Mutable=False\n",
      "            Key               : Value\n",
      "            ('A', 'Minerals') :     6\n",
      "             ('A', 'Protein') :     4\n",
      "            ('A', 'Vitamins') :     3\n",
      "            ('B', 'Minerals') :     3\n",
      "             ('B', 'Protein') :     5\n",
      "            ('B', 'Vitamins') :     8\n",
      "        cf : Cost of Food\n",
      "            Size=2, Index=F, Domain=Any, Default=None, Mutable=False\n",
      "            Key : Value\n",
      "              A :   400\n",
      "              B :   300\n",
      "\n",
      "    1 Var Declarations\n",
      "        xf : Amount of serving food f\n",
      "            Size=2, Index=F\n",
      "            Key : Lower : Value : Upper : Fixed : Stale : Domain\n",
      "              A :     0 :  None :  None : False :  True : NonNegativeReals\n",
      "              B :     0 :  None :  None : False :  True : NonNegativeReals\n",
      "\n",
      "    1 Objective Declarations\n",
      "        objective : Total Cost of Food per serving\n",
      "            Size=1, Index=None, Active=True\n",
      "            Key  : Active : Sense    : Expression\n",
      "            None :   True : minimize : 400*xf[A] + 300*xf[B]\n",
      "\n",
      "    1 Constraint Declarations\n",
      "        nutrient_limit_min : Minimum Amount of Nutrients\n",
      "            Size=3, Index=N, Active=True\n",
      "            Key      : Lower : Body              : Upper : Active\n",
      "            Minerals : 120.0 : 6*xf[A] + 3*xf[B] :  +Inf :   True\n",
      "             Protein : 200.0 : 4*xf[A] + 5*xf[B] :  +Inf :   True\n",
      "            Vitamins : 240.0 : 3*xf[A] + 8*xf[B] :  +Inf :   True\n",
      "\n",
      "    9 Declarations: F N cf afn_index afn Nminn xf nutrient_limit_min objective\n"
     ]
    }
   ],
   "source": [
    "model.pprint()"
   ]
  },
  {
   "attachments": {},
   "cell_type": "markdown",
   "metadata": {},
   "source": [
    "## Solve the model"
   ]
  },
  {
   "cell_type": "code",
   "execution_count": 9,
   "metadata": {},
   "outputs": [],
   "source": [
    "solver = pyo.SolverFactory('appsi_highs')"
   ]
  },
  {
   "cell_type": "code",
   "execution_count": 10,
   "metadata": {},
   "outputs": [
    {
     "name": "stdout",
     "output_type": "stream",
     "text": [
      "WARNING: No semi-integer/integer variables in model with non-empty integrality\n",
      "Presolving model\n",
      "3 rows, 2 cols, 6 nonzeros\n",
      "3 rows, 2 cols, 6 nonzeros\n",
      "Presolve : Reductions: rows 3(-0); columns 2(-0); elements 6(-0) - Not reduced\n",
      "Problem not reduced by presolve: solving the LP\n",
      "Using EKK dual simplex solver - serial\n",
      "  Iteration        Objective     Infeasibilities num(sum)\n",
      "          0     0.0000000000e+00 Pr: 3(560) 0s\n",
      "          2     1.2000000000e+04 Pr: 0(0) 0s\n",
      "Model   status      : Optimal\n",
      "Simplex   iterations: 2\n",
      "Objective value     :  1.2000000000e+04\n",
      "HiGHS run time      :          0.01\n"
     ]
    },
    {
     "data": {
      "text/plain": [
       "{'Problem': [{'Lower bound': 12000.0, 'Upper bound': 12000.0, 'Number of objectives': 1, 'Number of constraints': 0, 'Number of variables': 0, 'Sense': 1}], 'Solver': [{'Status': 'ok', 'Termination condition': 'optimal', 'Termination message': 'TerminationCondition.optimal'}], 'Solution': [OrderedDict([('number of solutions', 0), ('number of solutions displayed', 0)])]}"
      ]
     },
     "execution_count": 10,
     "metadata": {},
     "output_type": "execute_result"
    }
   ],
   "source": [
    "solver.solve(model, tee=True)"
   ]
  },
  {
   "cell_type": "code",
   "execution_count": 11,
   "metadata": {},
   "outputs": [
    {
     "data": {
      "text/plain": [
       "12000.0"
      ]
     },
     "execution_count": 11,
     "metadata": {},
     "output_type": "execute_result"
    }
   ],
   "source": [
    "model.objective.expr()"
   ]
  },
  {
   "cell_type": "code",
   "execution_count": 12,
   "metadata": {},
   "outputs": [
    {
     "name": "stdout",
     "output_type": "stream",
     "text": [
      "xf : Amount of serving food f\n",
      "    Size=2, Index=F\n",
      "    Key : Lower : Value : Upper : Fixed : Stale : Domain\n",
      "      A :     0 :   0.0 :  None : False : False : NonNegativeReals\n",
      "      B :     0 :  40.0 :  None : False : False : NonNegativeReals\n"
     ]
    }
   ],
   "source": [
    "model.xf.display()"
   ]
  },
  {
   "cell_type": "code",
   "execution_count": 13,
   "metadata": {},
   "outputs": [
    {
     "name": "stdout",
     "output_type": "stream",
     "text": [
      "nutrient_limit_min : Size=3\n",
      "    Key      : Lower : Body  : Upper\n",
      "    Minerals : 120.0 : 120.0 :  None\n",
      "     Protein : 200.0 : 200.0 :  None\n",
      "    Vitamins : 240.0 : 320.0 :  None\n"
     ]
    }
   ],
   "source": [
    "model.nutrient_limit_min.display()"
   ]
  }
 ],
 "metadata": {
  "kernelspec": {
   "display_name": "Math-Optimization-oT6u-VEw",
   "language": "python",
   "name": "python3"
  },
  "language_info": {
   "codemirror_mode": {
    "name": "ipython",
    "version": 3
   },
   "file_extension": ".py",
   "mimetype": "text/x-python",
   "name": "python",
   "nbconvert_exporter": "python",
   "pygments_lexer": "ipython3",
   "version": "3.10.11"
  },
  "orig_nbformat": 4
 },
 "nbformat": 4,
 "nbformat_minor": 2
}
