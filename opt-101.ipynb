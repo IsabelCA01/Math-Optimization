{
 "cells": [
  {
   "attachments": {},
   "cell_type": "markdown",
   "metadata": {},
   "source": [
    "# Diet Problem"
   ]
  },
  {
   "attachments": {},
   "cell_type": "markdown",
   "metadata": {},
   "source": [
    "# Problem statement"
   ]
  },
  {
   "attachments": {},
   "cell_type": "markdown",
   "metadata": {},
   "source": [
    "## Set"
   ]
  },
  {
   "attachments": {},
   "cell_type": "markdown",
   "metadata": {},
   "source": [
    "$F$ = set of foods\n",
    "\n",
    "$N$ = set of nutrients"
   ]
  },
  {
   "attachments": {},
   "cell_type": "markdown",
   "metadata": {},
   "source": [
    "## Decision Variables"
   ]
  },
  {
   "attachments": {},
   "cell_type": "markdown",
   "metadata": {},
   "source": [
    "$x_{f}$ = Number of servings of food $f$"
   ]
  },
  {
   "attachments": {},
   "cell_type": "markdown",
   "metadata": {},
   "source": [
    "## Parameters"
   ]
  },
  {
   "attachments": {},
   "cell_type": "markdown",
   "metadata": {},
   "source": [
    "$c_{f}$ = Cost per serving of food $f$,  $\\forall f \\in F$\n",
    "\n",
    "$a_{f,n}$ = Amount of nutrients $n$ in food $f$, $\\forall f \\in F, \\forall n \\in N$\n",
    "\n",
    "$Nmin_{n}$ = Minimum level of nutrients $n$, $\\forall n \\in N$\n",
    "\n",
    "$Nmax_{n}$ = Maximun level of nutrients $n$, $\\forall n \\in N$\n",
    "\n",
    "$Vmax$ = Maximum volume of food comsumed\n",
    "\n",
    "$V_{f}$ = The volume per serving of food $f$, $\\forall f \\in F\n",
    "\n"
   ]
  },
  {
   "attachments": {},
   "cell_type": "markdown",
   "metadata": {},
   "source": [
    "## Objective"
   ]
  },
  {
   "attachments": {},
   "cell_type": "markdown",
   "metadata": {},
   "source": [
    "Minimize the total cost of the food\n",
    "\n",
    "$$\\text{min} \\sum c_f x_f$$"
   ]
  },
  {
   "attachments": {},
   "cell_type": "markdown",
   "metadata": {},
   "source": [
    "## Constrains"
   ]
  },
  {
   "attachments": {},
   "cell_type": "markdown",
   "metadata": {},
   "source": [
    "1. Limit nutrient consumption for each nutrient\n",
    "\n",
    "$$Nmin_{n} \\leq \\sum a_{f,n} \\cdot x_{f} \\leq Nmax_{n}, \\forall n \\in N$$"
   ]
  },
  {
   "attachments": {},
   "cell_type": "markdown",
   "metadata": {},
   "source": [
    "2. Limit the volume of food consumed\n",
    "\n",
    "$$\\sum x_{f} \\cdot V_{f} \\leq Vmax$$"
   ]
  },
  {
   "attachments": {},
   "cell_type": "markdown",
   "metadata": {},
   "source": [
    "3. Consumption lower bound\n",
    "\n",
    "$$x_{f} \\geq 0$$"
   ]
  },
  {
   "attachments": {},
   "cell_type": "markdown",
   "metadata": {},
   "source": [
    "# Model"
   ]
  },
  {
   "cell_type": "code",
   "execution_count": 1,
   "metadata": {},
   "outputs": [],
   "source": [
    "import pyomo.environ as pyo"
   ]
  },
  {
   "cell_type": "code",
   "execution_count": 2,
   "metadata": {},
   "outputs": [],
   "source": [
    "model = pyo.ConcreteModel(name=\"Diet Problem\", doc=\"Diet Problem\")"
   ]
  },
  {
   "cell_type": "code",
   "execution_count": 3,
   "metadata": {},
   "outputs": [],
   "source": [
    "FOODS = [\"Cheeseburger\", \"Fries\"]\n",
    "NUTRIENTS = [\"Calories\", \"Protein\", \"Fat\"]\n",
    "\n",
    "model.F =pyo.Set(initialize=FOODS, doc=\"Food Set\")\n",
    "model.N = pyo.Set(initialize=NUTRIENTS, doc=\"Nutrient Set\")"
   ]
  },
  {
   "cell_type": "code",
   "execution_count": 4,
   "metadata": {},
   "outputs": [],
   "source": [
    "cf = {\"Cheeseburger\": 1.84, \n",
    "    \"Fries\": 0.67}\n",
    "\n",
    "afn = {\n",
    "    (\"Cheeseburger\", \"Calories\"): 510,\n",
    "    (\"Cheeseburger\", \"Protein\"): 34,\n",
    "    (\"Cheeseburger\", \"Fat\"): 26,\n",
    "    (\"Fries\", \"Calories\"): 220,\n",
    "    (\"Fries\", \"Protein\"): 4,\n",
    "    (\"Fries\", \"Fat\"): 19\n",
    "}\n",
    "\n",
    "Nminn = {\n",
    "    \"Calories\": 2000,\n",
    "    \"Protein\": 55,\n",
    "    \"Fat\": 30\n",
    "}\n",
    "\n",
    "Nmaxn = {\n",
    "    \"Calories\": 22000000,\n",
    "    \"Protein\": 1000000,\n",
    "    \"Fat\": 400000000\n",
    "}\n",
    "\n",
    "Vmax = 70\n",
    "\n",
    "Vf = {\n",
    "    \"Cheeseburger\": 5,\n",
    "    \"Fries\": 5\n",
    "}\n",
    "\n",
    "model.cf = pyo.Param(model.F, initialize=cf, doc=\"Cost of Food\")\n",
    "model.afn = pyo.Param(model.F, model.N , initialize=afn, doc=\"Amount of Nutrients per Food\")\n",
    "model.Nminn = pyo.Param(model.N, initialize=Nminn, doc=\"Minimum Amount of Nutrients\")\n",
    "model.Nmaxn = pyo.Param(model.N, initialize=Nmaxn, doc=\"Maximum Amount of Nutrients\")\n",
    "model.Vmax = pyo.Param(initialize=Vmax, doc=\"Maximum Volume of Food\")\n",
    "model.Vf = pyo.Param(model.F, initialize=Vf, doc=\"Volume of Food per serving\")"
   ]
  },
  {
   "cell_type": "code",
   "execution_count": 5,
   "metadata": {},
   "outputs": [],
   "source": [
    "model.xf = pyo.Var(model.F, domain=pyo.NonNegativeReals, doc=\"Amount of serving food f\")"
   ]
  },
  {
   "cell_type": "code",
   "execution_count": 6,
   "metadata": {},
   "outputs": [],
   "source": [
    "#objective function\n",
    "\n",
    "def cost_function(model):\n",
    "    return sum(model.cf[f] * model.xf[f] for f in model.F)\n",
    "\n",
    "model.objective = pyo.Objective(rule=cost_function, sense=pyo.minimize, doc=\"Total Cost of Food per serving\")"
   ]
  },
  {
   "cell_type": "code",
   "execution_count": 7,
   "metadata": {},
   "outputs": [],
   "source": [
    "#constraints\n",
    "#1. Nutrient constraints\n",
    "def nutrient_limit_max(model, n):\n",
    "    return sum(model.afn[f,n] * model.xf[f] for f in model.F) <= model.Nmaxn[n]\n",
    "\n",
    "def nutrient_limit_min(model, n):\n",
    "    return model.Nminn[n] <= sum(model.afn[f,n] * model.xf[f] for f in model.F)\n",
    "\n",
    "model.nutrient_limit_max = pyo.Constraint(model.N, rule=nutrient_limit_max, doc=\"Maximum Amount of Nutrients\")\n",
    "model.nutrient_limit_min = pyo.Constraint(model.N, rule=nutrient_limit_min, doc=\"Minimum Amount of Nutrients\")\n"
   ]
  },
  {
   "cell_type": "code",
   "execution_count": 8,
   "metadata": {},
   "outputs": [],
   "source": [
    "#2. Volume constraint\n",
    "def volume_limit(model):\n",
    "    return sum(model.Vf[f] * model.xf[f] for f in model.F) <= model.Vmax\n",
    "\n",
    "model.volume_limit = pyo.Constraint(rule=volume_limit, doc=\"Maximum Volume of Food\")"
   ]
  },
  {
   "cell_type": "code",
   "execution_count": 9,
   "metadata": {},
   "outputs": [
    {
     "name": "stdout",
     "output_type": "stream",
     "text": [
      "Diet Problem\n",
      "\n",
      "    3 Set Declarations\n",
      "        F : Food Set\n",
      "            Size=1, Index=None, Ordered=Insertion\n",
      "            Key  : Dimen : Domain : Size : Members\n",
      "            None :     1 :    Any :    2 : {'Cheeseburger', 'Fries'}\n",
      "        N : Nutrient Set\n",
      "            Size=1, Index=None, Ordered=Insertion\n",
      "            Key  : Dimen : Domain : Size : Members\n",
      "            None :     1 :    Any :    3 : {'Calories', 'Protein', 'Fat'}\n",
      "        afn_index : Size=1, Index=None, Ordered=True\n",
      "            Key  : Dimen : Domain : Size : Members\n",
      "            None :     2 :    F*N :    6 : {('Cheeseburger', 'Calories'), ('Cheeseburger', 'Protein'), ('Cheeseburger', 'Fat'), ('Fries', 'Calories'), ('Fries', 'Protein'), ('Fries', 'Fat')}\n",
      "\n",
      "    6 Param Declarations\n",
      "        Nmaxn : Maximum Amount of Nutrients\n",
      "            Size=3, Index=N, Domain=Any, Default=None, Mutable=False\n",
      "            Key      : Value\n",
      "            Calories :  22000000\n",
      "                 Fat : 400000000\n",
      "             Protein :   1000000\n",
      "        Nminn : Minimum Amount of Nutrients\n",
      "            Size=3, Index=N, Domain=Any, Default=None, Mutable=False\n",
      "            Key      : Value\n",
      "            Calories :  2000\n",
      "                 Fat :    30\n",
      "             Protein :    55\n",
      "        Vf : Volume of Food per serving\n",
      "            Size=2, Index=F, Domain=Any, Default=None, Mutable=False\n",
      "            Key          : Value\n",
      "            Cheeseburger :     5\n",
      "                   Fries :     5\n",
      "        Vmax : Maximum Volume of Food\n",
      "            Size=1, Index=None, Domain=Any, Default=None, Mutable=False\n",
      "            Key  : Value\n",
      "            None :    70\n",
      "        afn : Amount of Nutrients per Food\n",
      "            Size=6, Index=afn_index, Domain=Any, Default=None, Mutable=False\n",
      "            Key                          : Value\n",
      "            ('Cheeseburger', 'Calories') :   510\n",
      "                 ('Cheeseburger', 'Fat') :    26\n",
      "             ('Cheeseburger', 'Protein') :    34\n",
      "                   ('Fries', 'Calories') :   220\n",
      "                        ('Fries', 'Fat') :    19\n",
      "                    ('Fries', 'Protein') :     4\n",
      "        cf : Cost of Food\n",
      "            Size=2, Index=F, Domain=Any, Default=None, Mutable=False\n",
      "            Key          : Value\n",
      "            Cheeseburger :  1.84\n",
      "                   Fries :  0.67\n",
      "\n",
      "    1 Var Declarations\n",
      "        xf : Amount of serving food f\n",
      "            Size=2, Index=F\n",
      "            Key          : Lower : Value : Upper : Fixed : Stale : Domain\n",
      "            Cheeseburger :     0 :  None :  None : False :  True : NonNegativeReals\n",
      "                   Fries :     0 :  None :  None : False :  True : NonNegativeReals\n",
      "\n",
      "    1 Objective Declarations\n",
      "        objective : Total Cost of Food per serving\n",
      "            Size=1, Index=None, Active=True\n",
      "            Key  : Active : Sense    : Expression\n",
      "            None :   True : minimize : 1.84*xf[Cheeseburger] + 0.67*xf[Fries]\n",
      "\n",
      "    3 Constraint Declarations\n",
      "        nutrient_limit_max : Maximum Amount of Nutrients\n",
      "            Size=3, Index=N, Active=True\n",
      "            Key      : Lower : Body                                 : Upper       : Active\n",
      "            Calories :  -Inf : 510*xf[Cheeseburger] + 220*xf[Fries] :  22000000.0 :   True\n",
      "                 Fat :  -Inf :   26*xf[Cheeseburger] + 19*xf[Fries] : 400000000.0 :   True\n",
      "             Protein :  -Inf :    34*xf[Cheeseburger] + 4*xf[Fries] :   1000000.0 :   True\n",
      "        nutrient_limit_min : Minimum Amount of Nutrients\n",
      "            Size=3, Index=N, Active=True\n",
      "            Key      : Lower  : Body                                 : Upper : Active\n",
      "            Calories : 2000.0 : 510*xf[Cheeseburger] + 220*xf[Fries] :  +Inf :   True\n",
      "                 Fat :   30.0 :   26*xf[Cheeseburger] + 19*xf[Fries] :  +Inf :   True\n",
      "             Protein :   55.0 :    34*xf[Cheeseburger] + 4*xf[Fries] :  +Inf :   True\n",
      "        volume_limit : Maximum Volume of Food\n",
      "            Size=1, Index=None, Active=True\n",
      "            Key  : Lower : Body                             : Upper : Active\n",
      "            None :  -Inf : 5*xf[Cheeseburger] + 5*xf[Fries] :  70.0 :   True\n",
      "\n",
      "    14 Declarations: F N cf afn_index afn Nminn Nmaxn Vmax Vf xf objective nutrient_limit_max nutrient_limit_min volume_limit\n"
     ]
    }
   ],
   "source": [
    "model.pprint()"
   ]
  },
  {
   "attachments": {},
   "cell_type": "markdown",
   "metadata": {},
   "source": [
    "## Solve the model"
   ]
  },
  {
   "cell_type": "code",
   "execution_count": 10,
   "metadata": {},
   "outputs": [],
   "source": [
    "solver = pyo.SolverFactory('appsi_highs')"
   ]
  },
  {
   "cell_type": "code",
   "execution_count": 11,
   "metadata": {},
   "outputs": [
    {
     "name": "stdout",
     "output_type": "stream",
     "text": [
      "WARNING: No semi-integer/integer variables in model with non-empty integrality\n",
      "Presolving model\n",
      "6 rows, 2 cols, 12 nonzeros\n",
      "4 rows, 2 cols, 8 nonzeros\n",
      "Presolve : Reductions: rows 4(-3); columns 2(-0); elements 8(-6)\n",
      "Solving the presolved LP\n",
      "Using EKK dual simplex solver - serial\n",
      "  Iteration        Objective     Infeasibilities num(sum)\n",
      "          0     0.0000000000e+00 Pr: 3(530) 0s\n",
      "          2     6.3070772059e+00 Pr: 0(0) 0s\n",
      "Solving the original LP from the solution after postsolve\n",
      "Model   status      : Optimal\n",
      "Simplex   iterations: 2\n",
      "Objective value     :  6.3070772059e+00\n",
      "HiGHS run time      :          0.01\n"
     ]
    },
    {
     "data": {
      "text/plain": [
       "{'Problem': [{'Lower bound': 6.307077205882354, 'Upper bound': 6.307077205882354, 'Number of objectives': 1, 'Number of constraints': 0, 'Number of variables': 0, 'Sense': 1}], 'Solver': [{'Status': 'ok', 'Termination condition': 'optimal', 'Termination message': 'TerminationCondition.optimal'}], 'Solution': [OrderedDict([('number of solutions', 0), ('number of solutions displayed', 0)])]}"
      ]
     },
     "execution_count": 11,
     "metadata": {},
     "output_type": "execute_result"
    }
   ],
   "source": [
    "solver.solve(model, tee=True)"
   ]
  },
  {
   "cell_type": "code",
   "execution_count": 12,
   "metadata": {},
   "outputs": [
    {
     "data": {
      "text/plain": [
       "6.307077205882354"
      ]
     },
     "execution_count": 12,
     "metadata": {},
     "output_type": "execute_result"
    }
   ],
   "source": [
    "model.objective.expr()"
   ]
  },
  {
   "cell_type": "code",
   "execution_count": 13,
   "metadata": {},
   "outputs": [
    {
     "name": "stdout",
     "output_type": "stream",
     "text": [
      "xf : Amount of serving food f\n",
      "    Size=2, Index=F\n",
      "    Key          : Lower : Value              : Upper : Fixed : Stale : Domain\n",
      "    Cheeseburger :     0 : 0.7536764705882355 :  None : False : False : NonNegativeReals\n",
      "           Fries :     0 :            7.34375 :  None : False : False : NonNegativeReals\n"
     ]
    }
   ],
   "source": [
    "model.xf.display()"
   ]
  },
  {
   "cell_type": "code",
   "execution_count": 14,
   "metadata": {},
   "outputs": [
    {
     "name": "stdout",
     "output_type": "stream",
     "text": [
      "nutrient_limit_min : Size=3\n",
      "    Key      : Lower  : Body               : Upper\n",
      "    Calories : 2000.0 :             2000.0 :  None\n",
      "         Fat :   30.0 : 159.12683823529412 :  None\n",
      "     Protein :   55.0 :  55.00000000000001 :  None\n"
     ]
    }
   ],
   "source": [
    "model.nutrient_limit_min.display()"
   ]
  },
  {
   "cell_type": "code",
   "execution_count": 15,
   "metadata": {},
   "outputs": [
    {
     "name": "stdout",
     "output_type": "stream",
     "text": [
      "{Member of nutrient_limit_min} : Minimum Amount of Nutrients\n",
      "    Size=3, Index=N, Active=True\n",
      "    Key      : Lower  : Body                                 : Upper : Active\n",
      "    Calories : 2000.0 : 510*xf[Cheeseburger] + 220*xf[Fries] :  +Inf :   True\n"
     ]
    }
   ],
   "source": [
    "model.nutrient_limit_min[\"Calories\"].pprint()"
   ]
  },
  {
   "cell_type": "code",
   "execution_count": 16,
   "metadata": {},
   "outputs": [
    {
     "name": "stdout",
     "output_type": "stream",
     "text": [
      "afn : Amount of Nutrients per Food\n",
      "    Size=6, Index=afn_index, Domain=Any, Default=None, Mutable=False\n",
      "    Key                          : Value\n",
      "    ('Cheeseburger', 'Calories') :   510\n",
      "         ('Cheeseburger', 'Fat') :    26\n",
      "     ('Cheeseburger', 'Protein') :    34\n",
      "           ('Fries', 'Calories') :   220\n",
      "                ('Fries', 'Fat') :    19\n",
      "            ('Fries', 'Protein') :     4\n"
     ]
    }
   ],
   "source": [
    "model.afn.display()"
   ]
  }
 ],
 "metadata": {
  "kernelspec": {
   "display_name": "Math-Optimization-oT6u-VEw",
   "language": "python",
   "name": "python3"
  },
  "language_info": {
   "codemirror_mode": {
    "name": "ipython",
    "version": 3
   },
   "file_extension": ".py",
   "mimetype": "text/x-python",
   "name": "python",
   "nbconvert_exporter": "python",
   "pygments_lexer": "ipython3",
   "version": "3.10.11"
  },
  "orig_nbformat": 4
 },
 "nbformat": 4,
 "nbformat_minor": 2
}
